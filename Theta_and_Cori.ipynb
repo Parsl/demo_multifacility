{
 "cells": [
  {
   "cell_type": "markdown",
   "metadata": {},
   "source": [
    "#### Pre-Workflow Setup\n",
    "\n",
    "1. Ensure you can login to the two systems we will use today: Theta@ALCF and Cori@NERSC\n",
    "2. Install/Load Anaconda3 on the two target systems and create a environment with Parsl installed.\n",
    "3. Create a **setup_parsl_0.7.2.sh** script with environment setup commands.\n",
    "4. Goto to https://app.globus.org/endpoints and activate globus endpoints **alcf#dtn_theta** and **NERSC Cori**\n",
    "\n",
    "Here we will load the Parsl module and print the version information"
   ]
  },
  {
   "cell_type": "code",
   "execution_count": 1,
   "metadata": {},
   "outputs": [
    {
     "name": "stdout",
     "output_type": "stream",
     "text": [
      "Parsl version: 0.7.2-a1\n",
      "Parsl file source: /home/ubuntu/anaconda3/envs/remote_ix_py3.6/lib/python3.6/site-packages/parsl/__init__.py\n"
     ]
    }
   ],
   "source": [
    "import parsl\n",
    "from parsl.app.app import python_app, bash_app\n",
    "import time\n",
    "import os\n",
    "from parsl import File\n",
    "\n",
    "print(\"Parsl version: {}\".format(parsl.__version__))\n",
    "print(\"Parsl file source: {}\".format(parsl.__file__))"
   ]
  },
  {
   "cell_type": "markdown",
   "metadata": {},
   "source": [
    "Enable only for logging. Please remove prior to demo time"
   ]
  },
  {
   "cell_type": "code",
   "execution_count": null,
   "metadata": {},
   "outputs": [],
   "source": [
    "# parsl.set_stream_logger()"
   ]
  },
  {
   "cell_type": "markdown",
   "metadata": {},
   "source": [
    "#### Configurations\n",
    "\n",
    "Here we configure Parsl to use the Theta Supercomputer at Argonne National Lab, and Cori at NERSC.\n",
    "\n",
    "##### Authentication\n",
    "Both systems use two factor authentication, which Parsl supports via an interactive SSH channel that\n",
    "requires the user to enter the 2FA token string as per the facilities setup when prompted.\n",
    "\n",
    "##### Execution\n",
    "\n",
    "\n",
    "##### Data Transport\n"
   ]
  },
  {
   "cell_type": "code",
   "execution_count": 2,
   "metadata": {},
   "outputs": [
    {
     "name": "stdout",
     "output_type": "stream",
     "text": [
      "Enter thetalogin6.alcf.anl.gov Logon password :········\n",
      "Enter cori03-224.nersc.gov Logon password :········\n"
     ]
    }
   ],
   "source": [
    "from parsl.config import Config\n",
    "\n",
    "from parsl.providers import SlurmProvider, CobaltProvider\n",
    "from parsl.executors import HighThroughputExecutor\n",
    "from parsl.channels import SSHInteractiveLoginChannel\n",
    "from parsl.data_provider.scheme import GlobusScheme\n",
    "\n",
    "config = Config(\n",
    "    executors=[\n",
    "        HighThroughputExecutor(\n",
    "            label='theta',\n",
    "            max_workers=4,            \n",
    "            address='try.parsl-project.org',\n",
    "            interchange_address='thetalogin6',            \n",
    "            provider=CobaltProvider(                \n",
    "                channel=SSHInteractiveLoginChannel(\n",
    "                    hostname=\"thetalogin6.alcf.anl.gov\",\n",
    "                    username=\"yadunand\",                         # MUST SET PER USER\n",
    "                    script_dir=\"/home/yadunand/parsl_scripts\"                    \n",
    "                ),\n",
    "                queue=\"debug-flat-quad\",\n",
    "                init_blocks=1,\n",
    "                min_blocks=1,\n",
    "                worker_init='source /home/yadunand/setup_parsl_0.7.2.sh',\n",
    "                account='CSC249ADCD01',                          # MUST SET PER USER\n",
    "                cmd_timeout=120\n",
    "            ),\n",
    "            working_dir='/home/yadunand',\n",
    "            storage_access=[GlobusScheme(\n",
    "                endpoint_uuid='08925f04-569f-11e7-bef8-22000b9a448b',\n",
    "                endpoint_path='/',\n",
    "                local_path='/')],\n",
    "        ),        \n",
    "        HighThroughputExecutor(\n",
    "            label=\"cori\",\n",
    "            worker_debug=False,\n",
    "            address='try.parsl-project.org',\n",
    "            interchange_address='cori03-224.nersc.gov',            \n",
    "            provider=SlurmProvider(\n",
    "                partition='debug',  # Replace with partition name\n",
    "                # channel=SSHChannel(\n",
    "                channel=SSHInteractiveLoginChannel(\n",
    "                    hostname='cori03-224.nersc.gov',\n",
    "                    username='yadunand',                         # MUST SET PER USER\n",
    "                    script_dir='/global/homes/y/yadunand/parsl_scripts',\n",
    "                ),                \n",
    "                init_blocks=1,\n",
    "                min_blocks=1,\n",
    "                scheduler_options=\"#SBATCH --constraint=knl,quad,cache\",\n",
    "                # scheduler_options=\"#SBATCH --constraint=haswell\",\n",
    "                worker_init='source ~/setup_parsl_0.7.2.sh',                \n",
    "            ),\n",
    "            working_dir='/global/homes/y/yadunand',\n",
    "            storage_access=[GlobusScheme(\n",
    "                endpoint_uuid='9d6d99eb-6d04-11e5-ba46-22000b92c6ec',\n",
    "                endpoint_path='/',\n",
    "                local_path='/')],\n",
    "        )\n",
    "        \n",
    "    ],\n",
    ")"
   ]
  },
  {
   "cell_type": "code",
   "execution_count": 3,
   "metadata": {},
   "outputs": [
    {
     "data": {
      "text/plain": [
       "<parsl.dataflow.dflow.DataFlowKernel at 0x7f4899450780>"
      ]
     },
     "execution_count": 3,
     "metadata": {},
     "output_type": "execute_result"
    }
   ],
   "source": [
    "parsl.load(config)"
   ]
  },
  {
   "cell_type": "code",
   "execution_count": 4,
   "metadata": {},
   "outputs": [],
   "source": [
    "@python_app(executors=['theta'])\n",
    "def platform_theta(sleep=10, stdout=None):\n",
    "    import platform\n",
    "    import time\n",
    "    time.sleep(sleep)\n",
    "    return platform.uname()\n",
    "\n",
    "@python_app(executors=['cori'])\n",
    "def platform_cori(sleep=10, stdout=None):\n",
    "    import platform\n",
    "    import time\n",
    "    time.sleep(sleep)\n",
    "    return platform.uname()"
   ]
  },
  {
   "cell_type": "code",
   "execution_count": 5,
   "metadata": {},
   "outputs": [],
   "source": [
    "theta_p = platform_theta()\n",
    "cori_p = platform_cori()"
   ]
  },
  {
   "cell_type": "code",
   "execution_count": 6,
   "metadata": {},
   "outputs": [
    {
     "name": "stdout",
     "output_type": "stream",
     "text": [
      "From theta:  uname_result(system='Linux', node='nid00020', release='4.4.103-6.38_4.0.104-cray_ari_c', version='#1 SMP Thu Jan 17 19:44:04 UTC 2019 (5395680)', machine='x86_64', processor='x86_64')\n",
      "From cori:  uname_result(system='Linux', node='nid02877', release='4.4.103-6.38_4.0.153-cray_ari_c', version='#1 SMP Thu Nov 1 16:05:05 UTC 2018 (6ef8fef)', machine='x86_64', processor='x86_64')\n"
     ]
    }
   ],
   "source": [
    "# print(\"Got result: {}\".format(x.result())\n",
    "print(\"From theta: \", theta_p.result())\n",
    "print(\"From cori: \", cori_p.result())"
   ]
  },
  {
   "cell_type": "code",
   "execution_count": 7,
   "metadata": {},
   "outputs": [],
   "source": [
    "@python_app(executors=['theta'])\n",
    "def write_to_file(message, outputs=[]):\n",
    "    import os    \n",
    "    with open(outputs[0].filepath, 'w+') as f:\n",
    "        f.write(message)    \n",
    "    return \"Wrote to {}\".format(os.path.abspath(outputs[0].filepath))\n",
    "\n",
    "\n",
    "@python_app(executors=['cori'])\n",
    "def append_to_file(message, inputs=[], outputs=[]):\n",
    "    import os\n",
    "    with open(outputs[0].filepath, 'a+') as f:\n",
    "        f.write(message)   \n",
    "    return \"Wrote to {}\".format(os.path.abspath(outputs[0].filepath))\n"
   ]
  },
  {
   "cell_type": "code",
   "execution_count": null,
   "metadata": {},
   "outputs": [],
   "source": [
    "parsl.dfk().executors['theta'].working_dir = '/home/yadunand'"
   ]
  },
  {
   "cell_type": "code",
   "execution_count": 8,
   "metadata": {},
   "outputs": [],
   "source": [
    "x = write_to_file(\"Hello from Theta\\n\",\n",
    "                  outputs=[File(\"globus://9d6d99eb-6d04-11e5-ba46-22000b92c6ec//global/homes/y/yadunand/parsl_foo.out\")])"
   ]
  },
  {
   "cell_type": "code",
   "execution_count": 9,
   "metadata": {},
   "outputs": [
    {
     "name": "stdout",
     "output_type": "stream",
     "text": [
      "[<DataFuture at 0x7f48982c7dd8 state=finished returned parsl_foo.out>]\n"
     ]
    }
   ],
   "source": [
    "print(x.outputs)"
   ]
  },
  {
   "cell_type": "code",
   "execution_count": 10,
   "metadata": {},
   "outputs": [],
   "source": [
    "y = append_to_file(\"Hello from Cori\\n\",\n",
    "                   inputs=[x.outputs[0]],\n",
    "                   outputs=[File(\"globus://d9c79e7a-3abb-11e9-a613-0a54e005f950/home/ubuntu/parsl_foo.out\")])"
   ]
  },
  {
   "cell_type": "code",
   "execution_count": 12,
   "metadata": {},
   "outputs": [
    {
     "name": "stdout",
     "output_type": "stream",
     "text": [
      "[<DataFuture at 0x7f4898052588 state=finished returned parsl_foo.out>]\n"
     ]
    }
   ],
   "source": [
    "print(y.outputs)"
   ]
  },
  {
   "cell_type": "code",
   "execution_count": 13,
   "metadata": {},
   "outputs": [
    {
     "name": "stdout",
     "output_type": "stream",
     "text": [
      "Hello from Theta\r\n",
      "Hello from Cori\r\n"
     ]
    }
   ],
   "source": [
    "!cat /home/ubuntu/parsl_foo.out"
   ]
  },
  {
   "cell_type": "code",
   "execution_count": null,
   "metadata": {},
   "outputs": [],
   "source": [
    "parsl.dfk().cleanup()"
   ]
  }
 ],
 "metadata": {
  "kernelspec": {
   "display_name": "Python (remote_ix_py3.6)",
   "language": "python",
   "name": "remote_ix_py3.6"
  },
  "language_info": {
   "codemirror_mode": {
    "name": "ipython",
    "version": 3
   },
   "file_extension": ".py",
   "mimetype": "text/x-python",
   "name": "python",
   "nbconvert_exporter": "python",
   "pygments_lexer": "ipython3",
   "version": "3.6.8"
  }
 },
 "nbformat": 4,
 "nbformat_minor": 2
}
